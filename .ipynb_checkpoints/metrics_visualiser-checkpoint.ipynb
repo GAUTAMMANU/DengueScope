{
 "cells": [
  {
   "cell_type": "code",
   "execution_count": 1,
   "id": "4b461769-60f7-4e7f-8f24-c773fcd7c13e",
   "metadata": {},
   "outputs": [],
   "source": [
    "import pandas as pd\n",
    "\n",
    "# File paths\n",
    "file_paths = {\n",
    "    \"TCN_model_search_lagged\": \"./code/metrics/Brazil/TCN_model_search_lagged_18-03-2025-12-22-20.csv\",\n",
    "    \"TCN_new_model\": \"./code/metrics/Brazil/TCN_new_model_26-11-2024-00-40-59.csv\",\n",
    "    \"TCN_new_model_search\": \"./code/metrics/Brazil/TCN_new_model_search_26-11-2024-00-27-43.csv\",\n",
    "}\n",
    "\n",
    "# Load the CSV files\n",
    "dataframes = {name: pd.read_csv(path) for name, path in file_paths.items()}"
   ]
  },
  {
   "cell_type": "code",
   "execution_count": null,
   "id": "94a1f8f3-9ae7-4d99-aeb7-0160131eac60",
   "metadata": {},
   "outputs": [],
   "source": [
    "import matplotlib.pyplot as plt\n",
    "import seaborn as sns\n",
    "\n",
    "# Rename keys for readability\n",
    "model_names = {\n",
    "    \"TCN_model_search_lagged\": \"TCN Search Lagged\",\n",
    "    \"TCN_new_model\": \"TCN New Model\",\n",
    "    \"TCN_new_model_search\": \"TCN Search\",\n",
    "}\n",
    "\n",
    "# Prepare data for visualization\n",
    "metric_cols = [\"NRMSE All Validation\", \"MAE (DengRate_all) Val\"]\n",
    "merged_data = []\n",
    "\n",
    "for model, df in dataframes.items():\n",
    "    for metric in metric_cols:\n",
    "        for _, row in df.iterrows():\n",
    "            merged_data.append({\n",
    "                \"Model\": model_names[model],\n",
    "                \"State\": row[\"Department\"],\n",
    "                \"Metric\": metric,\n",
    "                \"Value\": row[metric],\n",
    "            })\n",
    "\n",
    "# Convert to DataFrame\n",
    "df_plot = pd.DataFrame(merged_data)\n",
    "\n",
    "# Overall Comparison: Boxplots of Metrics Across Models\n",
    "plt.figure(figsize=(12, 6))\n",
    "sns.boxplot(data=df_plot, x=\"Metric\", y=\"Value\", hue=\"Model\")\n",
    "plt.yscale(\"log\")  # Log scale for better visibility\n",
    "plt.title(\"Overall Model Comparison (NRMSE & MAE)\")\n",
    "plt.xticks(rotation=30)\n",
    "plt.grid(True, which=\"both\", linestyle=\"--\", linewidth=0.5)\n",
    "plt.show()\n"
   ]
  },
  {
   "cell_type": "code",
   "execution_count": null,
   "id": "1c5dc95f-fb17-4698-a138-ab663fde380d",
   "metadata": {},
   "outputs": [],
   "source": []
  }
 ],
 "metadata": {
  "kernelspec": {
   "display_name": "Python 3 (ipykernel)",
   "language": "python",
   "name": "python3"
  },
  "language_info": {
   "codemirror_mode": {
    "name": "ipython",
    "version": 3
   },
   "file_extension": ".py",
   "mimetype": "text/x-python",
   "name": "python",
   "nbconvert_exporter": "python",
   "pygments_lexer": "ipython3",
   "version": "3.10.15"
  }
 },
 "nbformat": 4,
 "nbformat_minor": 5
}
