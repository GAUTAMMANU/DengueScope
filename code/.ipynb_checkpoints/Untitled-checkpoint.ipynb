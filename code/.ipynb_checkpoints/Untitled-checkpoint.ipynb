{
 "cells": [
  {
   "cell_type": "markdown",
   "id": "4a2f2671-8ef4-48c6-98e8-422dead88a92",
   "metadata": {},
   "source": [
    "# settings\n"
   ]
  },
  {
   "cell_type": "code",
   "execution_count": 30,
   "id": "b75784c5-ba79-41d7-8956-cae8c9d824db",
   "metadata": {},
   "outputs": [
    {
     "data": {
      "text/plain": [
       "'E:\\\\minor\\\\proj\\\\code'"
      ]
     },
     "execution_count": 30,
     "metadata": {},
     "output_type": "execute_result"
    }
   ],
   "source": [
    "# %cd code\n",
    "# insert your desired path to work on\n",
    "import os\n",
    "from os.path import join\n",
    "project_path = os.path.dirname(os.getcwd())\n",
    "# os.chdir(join('..','data'))\n",
    "os.getcwd()"
   ]
  },
  {
   "cell_type": "code",
   "execution_count": 31,
   "id": "90319ae2-681f-462d-aa13-8fe4945ed298",
   "metadata": {},
   "outputs": [],
   "source": [
    "import sys\n",
    "sys.path.append(join(project_path, 'code'))"
   ]
  },
  {
   "cell_type": "code",
   "execution_count": 32,
   "id": "890a0d8f-f9b3-4fe0-8521-0753f5ad88f8",
   "metadata": {},
   "outputs": [],
   "source": [
    "import matplotlib\n",
    "font = {'family':'Arial', 'size':'15', 'weight':'normal'}\n",
    "\n",
    "matplotlib.rc('font', **font)"
   ]
  },
  {
   "cell_type": "code",
   "execution_count": 33,
   "id": "f3178586-15da-437d-b4ca-854a61ff719c",
   "metadata": {},
   "outputs": [
    {
     "data": {
      "text/plain": [
       "[None, None, None, None, None]"
      ]
     },
     "execution_count": 33,
     "metadata": {},
     "output_type": "execute_result"
    }
   ],
   "source": [
    "config = {\n",
    "    'main_brazil': 'Brazil',\n",
    "    'main_peru': 'Peru',\n",
    "    'baseline': join(project_path, \"baseline_models\"),\n",
    "    'output': join(project_path, \"code\", \"saved_models\"),\n",
    "    'metrics': join(project_path, \"code\", \"metrics\")\n",
    "}\n",
    "project_path\n",
    "\n",
    "# List comprehension for the folder structure code\n",
    "[os.makedirs(val, exist_ok=True) for key, val in config.items()]"
   ]
  },
  {
   "cell_type": "code",
   "execution_count": 34,
   "id": "30b2fa27-a6c6-4697-97ad-0d3a7c99aca6",
   "metadata": {},
   "outputs": [],
   "source": [
    "import utils\n",
    "import matplotlib.pyplot as plt\n",
    "import numpy as np\n",
    "import pandas as pd\n",
    "import scipy.stats as st\n",
    "from sklearn.preprocessing import MinMaxScaler, StandardScaler\n",
    "from sklearn.metrics import mean_squared_error, r2_score\n",
    "from datetime import datetime\n",
    "from glob import glob\n",
    "from config import DEP_NAMES, GROUPED_VARS, DATA_REDUCER_SETTINGS, DATA_PROCESSING_SETTINGS\n"
   ]
  },
  {
   "cell_type": "markdown",
   "id": "bebb0ae9-99be-48ce-b050-73ac2a86c816",
   "metadata": {},
   "source": [
    "# new"
   ]
  },
  {
   "cell_type": "code",
   "execution_count": 35,
   "id": "371cee55-32f5-4ca6-852b-6f17181d0106",
   "metadata": {},
   "outputs": [
    {
     "name": "stdout",
     "output_type": "stream",
     "text": [
      "   Year  dep_id  t_fundc_ocup18m  t_medioc_ocup18m  PopTotal_Urban_UF  \\\n",
      "0  2001      11         0.206751           0.12853           0.020497   \n",
      "1  2001      11         0.206751           0.12853           0.020497   \n",
      "2  2001      11         0.206751           0.12853           0.020497   \n",
      "3  2001      11         0.206751           0.12853           0.020497   \n",
      "4  2001      11         0.206751           0.12853           0.020497   \n",
      "\n",
      "   PopTotal_Rural_UF  total_precipitation_d  surface_pressure_d  area_km2  \\\n",
      "0           0.089637               0.407604            0.821445  0.149352   \n",
      "1           0.089637               0.398777            0.813412  0.149352   \n",
      "2           0.089637               0.365953            0.818016  0.149352   \n",
      "3           0.089637               0.193233            0.822539  0.149352   \n",
      "4           0.089637               0.116467            0.827818  0.149352   \n",
      "\n",
      "   humidity_d  temperature_2m_d  min_temperature_2m_d   CNN_all  CNN_0-19  \\\n",
      "0    0.935603          0.688908              0.857008  0.000993  0.001287   \n",
      "1    0.941722          0.698575              0.863897  0.000993  0.001287   \n",
      "2    0.948642          0.701846              0.862794  0.000993  0.001287   \n",
      "3    0.937610          0.713099              0.847959  0.000993  0.001287   \n",
      "4    0.912141          0.697771              0.827555  0.031933  0.022113   \n",
      "\n",
      "      Month  cases20_99  cases0_19  RandEffects1  RandEffects2  RandEffects3  \\\n",
      "0  0.000000    0.002575   0.002917        0.0000           0.0      0.000000   \n",
      "1  0.090909    0.001068   0.001174        0.0176           0.0      0.017440   \n",
      "2  0.181818    0.000702   0.000639        0.0352           0.0      0.034881   \n",
      "3  0.272727    0.000299   0.000380        0.0528           0.0      0.052321   \n",
      "4  0.363636    0.000423   0.000466        0.0704           0.0      0.069761   \n",
      "\n",
      "   PCA0-Climatic  PCA1-Climatic  PCA2-Climatic  PCA3-Climatic  PCA0-Geo  \\\n",
      "0       0.925752       0.395153       0.512831       0.550049  0.200094   \n",
      "1       0.925905       0.390509       0.524321       0.596163  0.235981   \n",
      "2       0.919944       0.418039       0.525723       0.603731  0.248735   \n",
      "3       0.905939       0.455873       0.513182       0.595172  0.303533   \n",
      "4       0.883284       0.496858       0.577500       0.605588  0.328923   \n",
      "\n",
      "   PCA1-Geo  PCA2-Geo  PCA3-Geo  PCA4-Geo  PCA5-Geo  PCA0-Socio  PCA1-Socio  \\\n",
      "0  0.518238  0.533094  0.852701  0.754964  0.521511    0.314491    0.096634   \n",
      "1  0.486360  0.528142  0.822107  0.697898  0.576999    0.314491    0.096634   \n",
      "2  0.475030  0.526382  0.811234  0.677617  0.596720    0.314491    0.096634   \n",
      "3  0.426352  0.518820  0.764518  0.590479  0.681450    0.314491    0.096634   \n",
      "4  0.403797  0.515316  0.742872  0.550104  0.720709    0.314491    0.096634   \n",
      "\n",
      "   PCA2-Socio  PCA3-Socio  PCA4-Socio  PCA5-Socio  DengRate_all  DengRate_019  \n",
      "0    0.179967    0.325246    0.604686    0.076292      0.036941      0.033651  \n",
      "1    0.179967    0.325246    0.604686    0.076292      0.015208      0.013540  \n",
      "2    0.179967    0.325246    0.604686    0.076292      0.009567      0.007367  \n",
      "3    0.179967    0.325246    0.604686    0.076292      0.004424      0.004381  \n",
      "4    0.179967    0.325246    0.604686    0.076292      0.006028      0.005376  \n"
     ]
    }
   ],
   "source": [
    "dataframe = pd.read_csv(\"reduced.csv\")\n",
    "# dataframe.head()\n",
    "\n",
    "# Temporarily show all columns\n",
    "with pd.option_context('display.max_columns', None):\n",
    "    print(dataframe.head())"
   ]
  },
  {
   "cell_type": "code",
   "execution_count": 43,
   "id": "5bc7b458-67f9-4ee3-b058-88f0799e7b14",
   "metadata": {},
   "outputs": [],
   "source": [
    "from pytrends.request import TrendReq\n",
    "import pandas as pd\n",
    "import datetime as dt\n",
    "import time\n",
    "# Initialize pytrends\n",
    "pytrends = TrendReq(hl='en-US', tz=360)\n",
    "# pytrends = TrendReq(hl='en-US', tz=360, verify_ssl=False)\n"
   ]
  },
  {
   "cell_type": "code",
   "execution_count": 47,
   "id": "d84179a9-6b2b-4c91-9b1a-1061d8a64076",
   "metadata": {},
   "outputs": [],
   "source": [
    "# Define search terms and regions\n",
    "search_terms = [\n",
    "    \"sintomas dengue\", \"sintomas de dengue\", \"dengue\",\n",
    "    \"mosquito da dengue\", \"febre do mosquito\", \"repelente contra dengue\",\n",
    "    \"dengue prevention\", \"mosquito\", \"tratamento para dengue\"\n",
    "]\n",
    "\n",
    "DEP_NAMES = {\n",
    "    0: 'RO', 1: 'AC', 2: 'AM'\n",
    "    #, 3: 'RR', 4: 'PA', \n",
    "    # 5: 'AP', 6: 'TO', 7: 'MA', 8: 'PI', 9: 'CE',\n",
    "    # 10: 'RN', 11: 'PB', 12: 'PE', 13: 'AL', 14: 'SE', \n",
    "    # 15: 'BA', 16: 'MG', 17: 'ES', 18: 'RJ', 19: 'SP',\n",
    "    # 20: 'PR', 21: 'SC', 22: 'RS', 23: 'MS', 24: 'MT', \n",
    "    # 25: 'GO', 26: 'DF'\n",
    "}\n",
    "\n",
    "# Define timeframe\n",
    "timeframe = '2004-01-01 2019-12-01'"
   ]
  },
  {
   "cell_type": "code",
   "execution_count": 48,
   "id": "b8a472c5-1f5b-4725-9d23-0328b3f61d87",
   "metadata": {},
   "outputs": [
    {
     "name": "stdout",
     "output_type": "stream",
     "text": [
      "Fetching trends for region: RO\n"
     ]
    },
    {
     "ename": "TooManyRequestsError",
     "evalue": "The request failed: Google returned a response with code 429",
     "output_type": "error",
     "traceback": [
      "\u001b[1;31m---------------------------------------------------------------------------\u001b[0m",
      "\u001b[1;31mTooManyRequestsError\u001b[0m                      Traceback (most recent call last)",
      "Cell \u001b[1;32mIn[48], line 22\u001b[0m\n\u001b[0;32m     20\u001b[0m \u001b[38;5;28;01mfor\u001b[39;00m dep_id, region \u001b[38;5;129;01min\u001b[39;00m DEP_NAMES\u001b[38;5;241m.\u001b[39mitems():\n\u001b[0;32m     21\u001b[0m     \u001b[38;5;28mprint\u001b[39m(\u001b[38;5;124mf\u001b[39m\u001b[38;5;124m\"\u001b[39m\u001b[38;5;124mFetching trends for region: \u001b[39m\u001b[38;5;132;01m{\u001b[39;00mregion\u001b[38;5;132;01m}\u001b[39;00m\u001b[38;5;124m\"\u001b[39m)\n\u001b[1;32m---> 22\u001b[0m     trends \u001b[38;5;241m=\u001b[39m \u001b[43mfetch_trends_data\u001b[49m\u001b[43m(\u001b[49m\u001b[43msearch_terms\u001b[49m\u001b[43m,\u001b[49m\u001b[43m \u001b[49m\u001b[43mregion\u001b[49m\u001b[43m,\u001b[49m\u001b[43m \u001b[49m\u001b[43mtimeframe\u001b[49m\u001b[43m)\u001b[49m\n\u001b[0;32m     23\u001b[0m     trends[\u001b[38;5;124m'\u001b[39m\u001b[38;5;124mdep_id\u001b[39m\u001b[38;5;124m'\u001b[39m] \u001b[38;5;241m=\u001b[39m dep_id\n\u001b[0;32m     24\u001b[0m     all_trends\u001b[38;5;241m.\u001b[39mappend(trends)\n",
      "Cell \u001b[1;32mIn[48], line 5\u001b[0m, in \u001b[0;36mfetch_trends_data\u001b[1;34m(search_terms, region, timeframe)\u001b[0m\n\u001b[0;32m      3\u001b[0m \u001b[38;5;28;01mfor\u001b[39;00m term \u001b[38;5;129;01min\u001b[39;00m search_terms:\n\u001b[0;32m      4\u001b[0m     pytrends\u001b[38;5;241m.\u001b[39mbuild_payload([term], cat\u001b[38;5;241m=\u001b[39m\u001b[38;5;241m0\u001b[39m, timeframe\u001b[38;5;241m=\u001b[39mtimeframe, geo\u001b[38;5;241m=\u001b[39m\u001b[38;5;124mf\u001b[39m\u001b[38;5;124m\"\u001b[39m\u001b[38;5;124mBR-\u001b[39m\u001b[38;5;132;01m{\u001b[39;00mregion\u001b[38;5;132;01m}\u001b[39;00m\u001b[38;5;124m\"\u001b[39m)\n\u001b[1;32m----> 5\u001b[0m     interest \u001b[38;5;241m=\u001b[39m \u001b[43mpytrends\u001b[49m\u001b[38;5;241;43m.\u001b[39;49m\u001b[43minterest_over_time\u001b[49m\u001b[43m(\u001b[49m\u001b[43m)\u001b[49m\n\u001b[0;32m      7\u001b[0m     \u001b[38;5;28;01mif\u001b[39;00m \u001b[38;5;129;01mnot\u001b[39;00m interest\u001b[38;5;241m.\u001b[39mempty:\n\u001b[0;32m      8\u001b[0m         interest \u001b[38;5;241m=\u001b[39m interest\u001b[38;5;241m.\u001b[39mreset_index()\n",
      "File \u001b[1;32m~\\anaconda3\\envs\\minornew\\lib\\site-packages\\pytrends\\request.py:232\u001b[0m, in \u001b[0;36mTrendReq.interest_over_time\u001b[1;34m(self)\u001b[0m\n\u001b[0;32m    224\u001b[0m over_time_payload \u001b[38;5;241m=\u001b[39m {\n\u001b[0;32m    225\u001b[0m     \u001b[38;5;66;03m# convert to string as requests will mangle\u001b[39;00m\n\u001b[0;32m    226\u001b[0m     \u001b[38;5;124m'\u001b[39m\u001b[38;5;124mreq\u001b[39m\u001b[38;5;124m'\u001b[39m: json\u001b[38;5;241m.\u001b[39mdumps(\u001b[38;5;28mself\u001b[39m\u001b[38;5;241m.\u001b[39minterest_over_time_widget[\u001b[38;5;124m'\u001b[39m\u001b[38;5;124mrequest\u001b[39m\u001b[38;5;124m'\u001b[39m]),\n\u001b[0;32m    227\u001b[0m     \u001b[38;5;124m'\u001b[39m\u001b[38;5;124mtoken\u001b[39m\u001b[38;5;124m'\u001b[39m: \u001b[38;5;28mself\u001b[39m\u001b[38;5;241m.\u001b[39minterest_over_time_widget[\u001b[38;5;124m'\u001b[39m\u001b[38;5;124mtoken\u001b[39m\u001b[38;5;124m'\u001b[39m],\n\u001b[0;32m    228\u001b[0m     \u001b[38;5;124m'\u001b[39m\u001b[38;5;124mtz\u001b[39m\u001b[38;5;124m'\u001b[39m: \u001b[38;5;28mself\u001b[39m\u001b[38;5;241m.\u001b[39mtz\n\u001b[0;32m    229\u001b[0m }\n\u001b[0;32m    231\u001b[0m \u001b[38;5;66;03m# make the request and parse the returned json\u001b[39;00m\n\u001b[1;32m--> 232\u001b[0m req_json \u001b[38;5;241m=\u001b[39m \u001b[38;5;28;43mself\u001b[39;49m\u001b[38;5;241;43m.\u001b[39;49m\u001b[43m_get_data\u001b[49m\u001b[43m(\u001b[49m\n\u001b[0;32m    233\u001b[0m \u001b[43m    \u001b[49m\u001b[43murl\u001b[49m\u001b[38;5;241;43m=\u001b[39;49m\u001b[43mTrendReq\u001b[49m\u001b[38;5;241;43m.\u001b[39;49m\u001b[43mINTEREST_OVER_TIME_URL\u001b[49m\u001b[43m,\u001b[49m\n\u001b[0;32m    234\u001b[0m \u001b[43m    \u001b[49m\u001b[43mmethod\u001b[49m\u001b[38;5;241;43m=\u001b[39;49m\u001b[43mTrendReq\u001b[49m\u001b[38;5;241;43m.\u001b[39;49m\u001b[43mGET_METHOD\u001b[49m\u001b[43m,\u001b[49m\n\u001b[0;32m    235\u001b[0m \u001b[43m    \u001b[49m\u001b[43mtrim_chars\u001b[49m\u001b[38;5;241;43m=\u001b[39;49m\u001b[38;5;241;43m5\u001b[39;49m\u001b[43m,\u001b[49m\n\u001b[0;32m    236\u001b[0m \u001b[43m    \u001b[49m\u001b[43mparams\u001b[49m\u001b[38;5;241;43m=\u001b[39;49m\u001b[43mover_time_payload\u001b[49m\u001b[43m,\u001b[49m\n\u001b[0;32m    237\u001b[0m \u001b[43m\u001b[49m\u001b[43m)\u001b[49m\n\u001b[0;32m    239\u001b[0m df \u001b[38;5;241m=\u001b[39m pd\u001b[38;5;241m.\u001b[39mDataFrame(req_json[\u001b[38;5;124m'\u001b[39m\u001b[38;5;124mdefault\u001b[39m\u001b[38;5;124m'\u001b[39m][\u001b[38;5;124m'\u001b[39m\u001b[38;5;124mtimelineData\u001b[39m\u001b[38;5;124m'\u001b[39m])\n\u001b[0;32m    240\u001b[0m \u001b[38;5;28;01mif\u001b[39;00m (df\u001b[38;5;241m.\u001b[39mempty):\n",
      "File \u001b[1;32m~\\anaconda3\\envs\\minornew\\lib\\site-packages\\pytrends\\request.py:159\u001b[0m, in \u001b[0;36mTrendReq._get_data\u001b[1;34m(self, url, method, trim_chars, **kwargs)\u001b[0m\n\u001b[0;32m    157\u001b[0m \u001b[38;5;28;01melse\u001b[39;00m:\n\u001b[0;32m    158\u001b[0m     \u001b[38;5;28;01mif\u001b[39;00m response\u001b[38;5;241m.\u001b[39mstatus_code \u001b[38;5;241m==\u001b[39m status_codes\u001b[38;5;241m.\u001b[39mcodes\u001b[38;5;241m.\u001b[39mtoo_many_requests:\n\u001b[1;32m--> 159\u001b[0m         \u001b[38;5;28;01mraise\u001b[39;00m exceptions\u001b[38;5;241m.\u001b[39mTooManyRequestsError\u001b[38;5;241m.\u001b[39mfrom_response(response)\n\u001b[0;32m    160\u001b[0m     \u001b[38;5;28;01mraise\u001b[39;00m exceptions\u001b[38;5;241m.\u001b[39mResponseError\u001b[38;5;241m.\u001b[39mfrom_response(response)\n",
      "\u001b[1;31mTooManyRequestsError\u001b[0m: The request failed: Google returned a response with code 429"
     ]
    }
   ],
   "source": [
    "def fetch_trends_data(search_terms, region, timeframe):\n",
    "    trends_data = pd.DataFrame()\n",
    "    for term in search_terms:\n",
    "        pytrends.build_payload([term], cat=0, timeframe=timeframe, geo=f\"BR-{region}\")\n",
    "        interest = pytrends.interest_over_time()\n",
    "        \n",
    "        if not interest.empty:\n",
    "            interest = interest.reset_index()\n",
    "            interest['month'] = interest['date'].dt.to_period('M')\n",
    "            term_col = f\"{term.replace(' ', '_')}_trends\"\n",
    "            interest = interest[['month', term]].rename(columns={term: term_col})\n",
    "            if trends_data.empty:\n",
    "                trends_data = interest\n",
    "            else:\n",
    "                trends_data = pd.merge(trends_data, interest, on='month', how='outer')\n",
    "    return trends_data\n",
    "\n",
    "# Fetch trends data for all regions\n",
    "all_trends = []\n",
    "for dep_id, region in DEP_NAMES.items():\n",
    "    print(f\"Fetching trends for region: {region}\")\n",
    "    trends = fetch_trends_data(search_terms, region, timeframe)\n",
    "    trends['dep_id'] = dep_id\n",
    "    all_trends.append(trends)\n",
    "    time.sleep(10)  # Avoid hitting request limits\n",
    "\n",
    "# Combine all regional data into a single DataFrame\n",
    "final_trends_data = pd.concat(all_trends, axis=0)\n",
    "final_trends_data.reset_index(inplace=True, drop=True)\n",
    "\n",
    "print(final_trends_data)"
   ]
  },
  {
   "cell_type": "code",
   "execution_count": null,
   "id": "d85633f2-9836-4137-a03d-c8b15b6c69b4",
   "metadata": {},
   "outputs": [
    {
     "name": "stderr",
     "output_type": "stream",
     "text": [
      "INFO:__main__:Fetching data for term 'sintomas dengue' in region 'RO' and timeframe '2004-01-01 2005-12-31'\n"
     ]
    }
   ],
   "source": [
    "import time\n",
    "import pandas as pd\n",
    "from pytrends.request import TrendReq\n",
    "from tenacity import retry, stop_after_attempt, wait_fixed\n",
    "import logging\n",
    "\n",
    "# Setup logger\n",
    "logging.basicConfig(level=logging.INFO)\n",
    "logger = logging.getLogger(__name__)\n",
    "\n",
    "# Pytrends setup\n",
    "pytrends = TrendReq(hl='pt-BR', tz=360)\n",
    "\n",
    "# Define search terms and regions\n",
    "search_terms = [\"sintomas dengue\", \"sintomas de dengue\", \"dengue\",\n",
    "                \"mosquito da dengue\", \"febre do mosquito\", \"repelente contra dengue\",\n",
    "                \"dengue prevention\", \"mosquito\", \"tratamento para dengue\"]\n",
    "DEP_NAMES = {\n",
    "    0: 'RO', 1: 'AC', 2: 'AM', 3: 'RR', 4: 'PA', 5: 'AP', 6: 'TO',\n",
    "    7: 'MA', 8: 'PI', 9: 'CE', 10: 'RN', 11: 'PB', 12: 'PE', \n",
    "    13: 'AL', 14: 'SE', 15: 'BA', 16: 'MG', 17: 'ES', 18: 'RJ',\n",
    "    19: 'SP', 20: 'PR', 21: 'SC', 22: 'RS', 23: 'MS', 24: 'MT',\n",
    "    25: 'GO', 26: 'DF'\n",
    "}\n",
    "timeframes = [\"2004-01-01 2005-12-31\", \"2006-01-01 2010-12-31\", \n",
    "              \"2011-01-01 2015-12-31\", \"2016-01-01 2019-12-01\"]\n",
    "\n",
    "@retry(stop=stop_after_attempt(5), wait=wait_fixed(60))\n",
    "def fetch_trends_data(search_term, region, timeframe):\n",
    "    \"\"\"Fetch trends data for a single search term, region, and timeframe.\"\"\"\n",
    "    pytrends.build_payload([search_term], cat=0, timeframe=timeframe, geo=f\"BR-{region}\")\n",
    "    interest = pytrends.interest_over_time()\n",
    "    if not interest.empty:\n",
    "        interest = interest.reset_index()\n",
    "        interest['month'] = interest['date'].dt.to_period('M')\n",
    "        interest = interest[['month', search_term]].rename(columns={search_term: f\"{search_term.replace(' ', '_')}_trends\"})\n",
    "        return interest\n",
    "    return pd.DataFrame()\n",
    "\n",
    "def fetch_all_trends():\n",
    "    \"\"\"Fetch trends data for all search terms, regions, and timeframes.\"\"\"\n",
    "    all_trends = []\n",
    "    for term in search_terms:\n",
    "        for dep_id, region in DEP_NAMES.items():\n",
    "            for timeframe in timeframes:\n",
    "                logger.info(f\"Fetching data for term '{term}' in region '{region}' and timeframe '{timeframe}'\")\n",
    "                try:\n",
    "                    trends = fetch_trends_data(term, region, timeframe)\n",
    "                    if not trends.empty:\n",
    "                        trends['dep_id'] = dep_id\n",
    "                        trends['search_term'] = term\n",
    "                        all_trends.append(trends)\n",
    "                    time.sleep(10)  # Avoid hitting request limits\n",
    "                except Exception as e:\n",
    "                    logger.error(f\"Error fetching data for term '{term}' in region '{region}' timeframe '{timeframe}': {e}\")\n",
    "    return pd.concat(all_trends, axis=0) if all_trends else pd.DataFrame()\n",
    "\n",
    "# Run data collection\n",
    "final_trends_data = fetch_all_trends()\n",
    "print(final_trends_data)\n",
    "\n",
    "# Save to CSV\n",
    "if not final_trends_data.empty:\n",
    "    final_trends_data.to_csv(\"trends_data.csv\", index=False)\n",
    "    logger.info(\"Trends data successfully saved to 'trends_data.csv'\")\n",
    "else:\n",
    "    logger.warning(\"No trends data fetched.\")\n"
   ]
  },
  {
   "cell_type": "code",
   "execution_count": null,
   "id": "5418e0d9-db0c-44f0-91eb-781f82555df5",
   "metadata": {},
   "outputs": [],
   "source": []
  }
 ],
 "metadata": {
  "kernelspec": {
   "display_name": "Python 3 (ipykernel)",
   "language": "python",
   "name": "python3"
  },
  "language_info": {
   "codemirror_mode": {
    "name": "ipython",
    "version": 3
   },
   "file_extension": ".py",
   "mimetype": "text/x-python",
   "name": "python",
   "nbconvert_exporter": "python",
   "pygments_lexer": "ipython3",
   "version": "3.10.15"
  }
 },
 "nbformat": 4,
 "nbformat_minor": 5
}
